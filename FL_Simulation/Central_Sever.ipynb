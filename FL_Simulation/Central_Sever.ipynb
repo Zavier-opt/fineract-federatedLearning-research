{
 "cells": [
  {
   "cell_type": "markdown",
   "id": "69ada23f",
   "metadata": {},
   "source": [
    "# Join the Duet Server the Data Owner 1 connected to"
   ]
  },
  {
   "cell_type": "code",
   "execution_count": null,
   "id": "8d6dfd48",
   "metadata": {},
   "outputs": [],
   "source": [
    "import syft as sy"
   ]
  },
  {
   "cell_type": "code",
   "execution_count": null,
   "id": "e78b315c",
   "metadata": {},
   "outputs": [],
   "source": [
    "duet1 = sy.join_duet(loopback=True)"
   ]
  },
  {
   "cell_type": "markdown",
   "id": "bce78bb8",
   "metadata": {},
   "source": [
    "# Join the Duet Server the Data Owner 2 connected to"
   ]
  },
  {
   "cell_type": "code",
   "execution_count": null,
   "id": "8bf2f929",
   "metadata": {},
   "outputs": [],
   "source": [
    "duet2 = sy.join_duet(loopback=True)"
   ]
  }
 ],
 "metadata": {
  "kernelspec": {
   "display_name": "Python 3 (ipykernel)",
   "language": "python",
   "name": "python3"
  },
  "language_info": {
   "codemirror_mode": {
    "name": "ipython",
    "version": 3
   },
   "file_extension": ".py",
   "mimetype": "text/x-python",
   "name": "python",
   "nbconvert_exporter": "python",
   "pygments_lexer": "ipython3",
   "version": "3.9.12"
  }
 },
 "nbformat": 4,
 "nbformat_minor": 5
}
